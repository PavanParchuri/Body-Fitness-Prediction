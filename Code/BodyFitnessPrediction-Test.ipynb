{
 "cells": [
  {
   "cell_type": "markdown",
   "metadata": {},
   "source": [
    "# Body Fitness Prediction"
   ]
  },
  {
   "cell_type": "markdown",
   "metadata": {},
   "source": [
    "# Importing Libraries"
   ]
  },
  {
   "cell_type": "code",
   "execution_count": 1,
   "metadata": {},
   "outputs": [],
   "source": [
    "#importing libraries\n",
    "import pandas as pd\n",
    "import numpy as np\n",
    "import pickle"
   ]
  },
  {
   "cell_type": "markdown",
   "metadata": {},
   "source": [
    "# Importing Dataset"
   ]
  },
  {
   "cell_type": "code",
   "execution_count": 2,
   "metadata": {},
   "outputs": [
    {
     "data": {
      "text/html": [
       "<div>\n",
       "<style scoped>\n",
       "    .dataframe tbody tr th:only-of-type {\n",
       "        vertical-align: middle;\n",
       "    }\n",
       "\n",
       "    .dataframe tbody tr th {\n",
       "        vertical-align: top;\n",
       "    }\n",
       "\n",
       "    .dataframe thead th {\n",
       "        text-align: right;\n",
       "    }\n",
       "</style>\n",
       "<table border=\"1\" class=\"dataframe\">\n",
       "  <thead>\n",
       "    <tr style=\"text-align: right;\">\n",
       "      <th></th>\n",
       "      <th>date</th>\n",
       "      <th>step_count</th>\n",
       "      <th>mood</th>\n",
       "      <th>calories_burned</th>\n",
       "      <th>hours_of_sleep</th>\n",
       "      <th>bool_of_active</th>\n",
       "      <th>weight_kg</th>\n",
       "    </tr>\n",
       "  </thead>\n",
       "  <tbody>\n",
       "    <tr>\n",
       "      <td>0</td>\n",
       "      <td>06-10-2017</td>\n",
       "      <td>5464</td>\n",
       "      <td>200</td>\n",
       "      <td>181</td>\n",
       "      <td>5</td>\n",
       "      <td>0</td>\n",
       "      <td>66</td>\n",
       "    </tr>\n",
       "    <tr>\n",
       "      <td>1</td>\n",
       "      <td>07-10-2017</td>\n",
       "      <td>6041</td>\n",
       "      <td>100</td>\n",
       "      <td>197</td>\n",
       "      <td>8</td>\n",
       "      <td>0</td>\n",
       "      <td>66</td>\n",
       "    </tr>\n",
       "    <tr>\n",
       "      <td>2</td>\n",
       "      <td>08-10-2017</td>\n",
       "      <td>25</td>\n",
       "      <td>100</td>\n",
       "      <td>0</td>\n",
       "      <td>5</td>\n",
       "      <td>0</td>\n",
       "      <td>66</td>\n",
       "    </tr>\n",
       "    <tr>\n",
       "      <td>3</td>\n",
       "      <td>09-10-2017</td>\n",
       "      <td>5461</td>\n",
       "      <td>100</td>\n",
       "      <td>174</td>\n",
       "      <td>4</td>\n",
       "      <td>0</td>\n",
       "      <td>66</td>\n",
       "    </tr>\n",
       "    <tr>\n",
       "      <td>4</td>\n",
       "      <td>10-10-2017</td>\n",
       "      <td>6915</td>\n",
       "      <td>200</td>\n",
       "      <td>223</td>\n",
       "      <td>5</td>\n",
       "      <td>500</td>\n",
       "      <td>66</td>\n",
       "    </tr>\n",
       "    <tr>\n",
       "      <td>...</td>\n",
       "      <td>...</td>\n",
       "      <td>...</td>\n",
       "      <td>...</td>\n",
       "      <td>...</td>\n",
       "      <td>...</td>\n",
       "      <td>...</td>\n",
       "      <td>...</td>\n",
       "    </tr>\n",
       "    <tr>\n",
       "      <td>667</td>\n",
       "      <td>04-08-2019</td>\n",
       "      <td>133</td>\n",
       "      <td>100</td>\n",
       "      <td>4</td>\n",
       "      <td>3</td>\n",
       "      <td>0</td>\n",
       "      <td>64</td>\n",
       "    </tr>\n",
       "    <tr>\n",
       "      <td>668</td>\n",
       "      <td>05-08-2019</td>\n",
       "      <td>153</td>\n",
       "      <td>300</td>\n",
       "      <td>4</td>\n",
       "      <td>8</td>\n",
       "      <td>0</td>\n",
       "      <td>64</td>\n",
       "    </tr>\n",
       "    <tr>\n",
       "      <td>669</td>\n",
       "      <td>06-08-2019</td>\n",
       "      <td>500</td>\n",
       "      <td>200</td>\n",
       "      <td>7</td>\n",
       "      <td>5</td>\n",
       "      <td>500</td>\n",
       "      <td>64</td>\n",
       "    </tr>\n",
       "    <tr>\n",
       "      <td>670</td>\n",
       "      <td>07-08-2019</td>\n",
       "      <td>2127</td>\n",
       "      <td>200</td>\n",
       "      <td>87</td>\n",
       "      <td>5</td>\n",
       "      <td>0</td>\n",
       "      <td>64</td>\n",
       "    </tr>\n",
       "    <tr>\n",
       "      <td>671</td>\n",
       "      <td>08-08-2019</td>\n",
       "      <td>2203</td>\n",
       "      <td>300</td>\n",
       "      <td>98</td>\n",
       "      <td>5</td>\n",
       "      <td>500</td>\n",
       "      <td>64</td>\n",
       "    </tr>\n",
       "  </tbody>\n",
       "</table>\n",
       "<p>672 rows × 7 columns</p>\n",
       "</div>"
      ],
      "text/plain": [
       "           date  step_count  mood  calories_burned  hours_of_sleep  \\\n",
       "0    06-10-2017        5464   200              181               5   \n",
       "1    07-10-2017        6041   100              197               8   \n",
       "2    08-10-2017          25   100                0               5   \n",
       "3    09-10-2017        5461   100              174               4   \n",
       "4    10-10-2017        6915   200              223               5   \n",
       "..          ...         ...   ...              ...             ...   \n",
       "667  04-08-2019         133   100                4               3   \n",
       "668  05-08-2019         153   300                4               8   \n",
       "669  06-08-2019         500   200                7               5   \n",
       "670  07-08-2019        2127   200               87               5   \n",
       "671  08-08-2019        2203   300               98               5   \n",
       "\n",
       "     bool_of_active  weight_kg  \n",
       "0                 0         66  \n",
       "1                 0         66  \n",
       "2                 0         66  \n",
       "3                 0         66  \n",
       "4               500         66  \n",
       "..              ...        ...  \n",
       "667               0         64  \n",
       "668               0         64  \n",
       "669             500         64  \n",
       "670               0         64  \n",
       "671             500         64  \n",
       "\n",
       "[672 rows x 7 columns]"
      ]
     },
     "execution_count": 2,
     "metadata": {},
     "output_type": "execute_result"
    }
   ],
   "source": [
    "#Reading dataset\n",
    "df=pd.read_csv(r\"C:\\Users\\pavan\\Downloads\\Internship2020\\Project\\BodyFitnessPrediction.csv\")\n",
    "df"
   ]
  },
  {
   "cell_type": "markdown",
   "metadata": {},
   "source": [
    "# Label Encoding"
   ]
  },
  {
   "cell_type": "markdown",
   "metadata": {},
   "source": [
    "1. \"Mood\" and \"bool_of_active\" are categorical variables but they are represented as   \n",
    "--> bool_of_active : Active - 500 and Inactive - 0  \n",
    "--> mood : 100 - sad, 200 - neutral and 300 - happy\n",
    "2. Encode mood values as    \n",
    "--> 100 - 0, 200 - 1 and 300 - 2\n",
    "3. Encode bool_of_active values as    \n",
    "--> 0 - 0 and 500 - 1"
   ]
  },
  {
   "cell_type": "code",
   "execution_count": 3,
   "metadata": {
    "scrolled": true
   },
   "outputs": [
    {
     "data": {
      "text/html": [
       "<div>\n",
       "<style scoped>\n",
       "    .dataframe tbody tr th:only-of-type {\n",
       "        vertical-align: middle;\n",
       "    }\n",
       "\n",
       "    .dataframe tbody tr th {\n",
       "        vertical-align: top;\n",
       "    }\n",
       "\n",
       "    .dataframe thead th {\n",
       "        text-align: right;\n",
       "    }\n",
       "</style>\n",
       "<table border=\"1\" class=\"dataframe\">\n",
       "  <thead>\n",
       "    <tr style=\"text-align: right;\">\n",
       "      <th></th>\n",
       "      <th>date</th>\n",
       "      <th>step_count</th>\n",
       "      <th>mood</th>\n",
       "      <th>calories_burned</th>\n",
       "      <th>hours_of_sleep</th>\n",
       "      <th>bool_of_active</th>\n",
       "      <th>weight_kg</th>\n",
       "    </tr>\n",
       "  </thead>\n",
       "  <tbody>\n",
       "    <tr>\n",
       "      <td>0</td>\n",
       "      <td>06-10-2017</td>\n",
       "      <td>5464</td>\n",
       "      <td>200</td>\n",
       "      <td>181</td>\n",
       "      <td>5</td>\n",
       "      <td>0</td>\n",
       "      <td>66</td>\n",
       "    </tr>\n",
       "    <tr>\n",
       "      <td>1</td>\n",
       "      <td>07-10-2017</td>\n",
       "      <td>6041</td>\n",
       "      <td>100</td>\n",
       "      <td>197</td>\n",
       "      <td>8</td>\n",
       "      <td>0</td>\n",
       "      <td>66</td>\n",
       "    </tr>\n",
       "    <tr>\n",
       "      <td>2</td>\n",
       "      <td>08-10-2017</td>\n",
       "      <td>25</td>\n",
       "      <td>100</td>\n",
       "      <td>0</td>\n",
       "      <td>5</td>\n",
       "      <td>0</td>\n",
       "      <td>66</td>\n",
       "    </tr>\n",
       "    <tr>\n",
       "      <td>3</td>\n",
       "      <td>09-10-2017</td>\n",
       "      <td>5461</td>\n",
       "      <td>100</td>\n",
       "      <td>174</td>\n",
       "      <td>4</td>\n",
       "      <td>0</td>\n",
       "      <td>66</td>\n",
       "    </tr>\n",
       "    <tr>\n",
       "      <td>4</td>\n",
       "      <td>10-10-2017</td>\n",
       "      <td>6915</td>\n",
       "      <td>200</td>\n",
       "      <td>223</td>\n",
       "      <td>5</td>\n",
       "      <td>1</td>\n",
       "      <td>66</td>\n",
       "    </tr>\n",
       "    <tr>\n",
       "      <td>...</td>\n",
       "      <td>...</td>\n",
       "      <td>...</td>\n",
       "      <td>...</td>\n",
       "      <td>...</td>\n",
       "      <td>...</td>\n",
       "      <td>...</td>\n",
       "      <td>...</td>\n",
       "    </tr>\n",
       "    <tr>\n",
       "      <td>667</td>\n",
       "      <td>04-08-2019</td>\n",
       "      <td>133</td>\n",
       "      <td>100</td>\n",
       "      <td>4</td>\n",
       "      <td>3</td>\n",
       "      <td>0</td>\n",
       "      <td>64</td>\n",
       "    </tr>\n",
       "    <tr>\n",
       "      <td>668</td>\n",
       "      <td>05-08-2019</td>\n",
       "      <td>153</td>\n",
       "      <td>300</td>\n",
       "      <td>4</td>\n",
       "      <td>8</td>\n",
       "      <td>0</td>\n",
       "      <td>64</td>\n",
       "    </tr>\n",
       "    <tr>\n",
       "      <td>669</td>\n",
       "      <td>06-08-2019</td>\n",
       "      <td>500</td>\n",
       "      <td>200</td>\n",
       "      <td>7</td>\n",
       "      <td>5</td>\n",
       "      <td>1</td>\n",
       "      <td>64</td>\n",
       "    </tr>\n",
       "    <tr>\n",
       "      <td>670</td>\n",
       "      <td>07-08-2019</td>\n",
       "      <td>2127</td>\n",
       "      <td>200</td>\n",
       "      <td>87</td>\n",
       "      <td>5</td>\n",
       "      <td>0</td>\n",
       "      <td>64</td>\n",
       "    </tr>\n",
       "    <tr>\n",
       "      <td>671</td>\n",
       "      <td>08-08-2019</td>\n",
       "      <td>2203</td>\n",
       "      <td>300</td>\n",
       "      <td>98</td>\n",
       "      <td>5</td>\n",
       "      <td>1</td>\n",
       "      <td>64</td>\n",
       "    </tr>\n",
       "  </tbody>\n",
       "</table>\n",
       "<p>672 rows × 7 columns</p>\n",
       "</div>"
      ],
      "text/plain": [
       "           date  step_count  mood  calories_burned  hours_of_sleep  \\\n",
       "0    06-10-2017        5464   200              181               5   \n",
       "1    07-10-2017        6041   100              197               8   \n",
       "2    08-10-2017          25   100                0               5   \n",
       "3    09-10-2017        5461   100              174               4   \n",
       "4    10-10-2017        6915   200              223               5   \n",
       "..          ...         ...   ...              ...             ...   \n",
       "667  04-08-2019         133   100                4               3   \n",
       "668  05-08-2019         153   300                4               8   \n",
       "669  06-08-2019         500   200                7               5   \n",
       "670  07-08-2019        2127   200               87               5   \n",
       "671  08-08-2019        2203   300               98               5   \n",
       "\n",
       "     bool_of_active  weight_kg  \n",
       "0                 0         66  \n",
       "1                 0         66  \n",
       "2                 0         66  \n",
       "3                 0         66  \n",
       "4                 1         66  \n",
       "..              ...        ...  \n",
       "667               0         64  \n",
       "668               0         64  \n",
       "669               1         64  \n",
       "670               0         64  \n",
       "671               1         64  \n",
       "\n",
       "[672 rows x 7 columns]"
      ]
     },
     "execution_count": 3,
     "metadata": {},
     "output_type": "execute_result"
    }
   ],
   "source": [
    "from sklearn.preprocessing import LabelEncoder\n",
    "le=LabelEncoder()\n",
    "df['bool_of_active']=le.fit_transform(df['bool_of_active'])\n",
    "df"
   ]
  },
  {
   "cell_type": "code",
   "execution_count": 4,
   "metadata": {},
   "outputs": [
    {
     "data": {
      "text/html": [
       "<div>\n",
       "<style scoped>\n",
       "    .dataframe tbody tr th:only-of-type {\n",
       "        vertical-align: middle;\n",
       "    }\n",
       "\n",
       "    .dataframe tbody tr th {\n",
       "        vertical-align: top;\n",
       "    }\n",
       "\n",
       "    .dataframe thead th {\n",
       "        text-align: right;\n",
       "    }\n",
       "</style>\n",
       "<table border=\"1\" class=\"dataframe\">\n",
       "  <thead>\n",
       "    <tr style=\"text-align: right;\">\n",
       "      <th></th>\n",
       "      <th>date</th>\n",
       "      <th>step_count</th>\n",
       "      <th>mood</th>\n",
       "      <th>calories_burned</th>\n",
       "      <th>hours_of_sleep</th>\n",
       "      <th>bool_of_active</th>\n",
       "      <th>weight_kg</th>\n",
       "    </tr>\n",
       "  </thead>\n",
       "  <tbody>\n",
       "    <tr>\n",
       "      <td>0</td>\n",
       "      <td>06-10-2017</td>\n",
       "      <td>5464</td>\n",
       "      <td>1</td>\n",
       "      <td>181</td>\n",
       "      <td>5</td>\n",
       "      <td>0</td>\n",
       "      <td>66</td>\n",
       "    </tr>\n",
       "    <tr>\n",
       "      <td>1</td>\n",
       "      <td>07-10-2017</td>\n",
       "      <td>6041</td>\n",
       "      <td>0</td>\n",
       "      <td>197</td>\n",
       "      <td>8</td>\n",
       "      <td>0</td>\n",
       "      <td>66</td>\n",
       "    </tr>\n",
       "    <tr>\n",
       "      <td>2</td>\n",
       "      <td>08-10-2017</td>\n",
       "      <td>25</td>\n",
       "      <td>0</td>\n",
       "      <td>0</td>\n",
       "      <td>5</td>\n",
       "      <td>0</td>\n",
       "      <td>66</td>\n",
       "    </tr>\n",
       "    <tr>\n",
       "      <td>3</td>\n",
       "      <td>09-10-2017</td>\n",
       "      <td>5461</td>\n",
       "      <td>0</td>\n",
       "      <td>174</td>\n",
       "      <td>4</td>\n",
       "      <td>0</td>\n",
       "      <td>66</td>\n",
       "    </tr>\n",
       "    <tr>\n",
       "      <td>4</td>\n",
       "      <td>10-10-2017</td>\n",
       "      <td>6915</td>\n",
       "      <td>1</td>\n",
       "      <td>223</td>\n",
       "      <td>5</td>\n",
       "      <td>1</td>\n",
       "      <td>66</td>\n",
       "    </tr>\n",
       "    <tr>\n",
       "      <td>...</td>\n",
       "      <td>...</td>\n",
       "      <td>...</td>\n",
       "      <td>...</td>\n",
       "      <td>...</td>\n",
       "      <td>...</td>\n",
       "      <td>...</td>\n",
       "      <td>...</td>\n",
       "    </tr>\n",
       "    <tr>\n",
       "      <td>667</td>\n",
       "      <td>04-08-2019</td>\n",
       "      <td>133</td>\n",
       "      <td>0</td>\n",
       "      <td>4</td>\n",
       "      <td>3</td>\n",
       "      <td>0</td>\n",
       "      <td>64</td>\n",
       "    </tr>\n",
       "    <tr>\n",
       "      <td>668</td>\n",
       "      <td>05-08-2019</td>\n",
       "      <td>153</td>\n",
       "      <td>2</td>\n",
       "      <td>4</td>\n",
       "      <td>8</td>\n",
       "      <td>0</td>\n",
       "      <td>64</td>\n",
       "    </tr>\n",
       "    <tr>\n",
       "      <td>669</td>\n",
       "      <td>06-08-2019</td>\n",
       "      <td>500</td>\n",
       "      <td>1</td>\n",
       "      <td>7</td>\n",
       "      <td>5</td>\n",
       "      <td>1</td>\n",
       "      <td>64</td>\n",
       "    </tr>\n",
       "    <tr>\n",
       "      <td>670</td>\n",
       "      <td>07-08-2019</td>\n",
       "      <td>2127</td>\n",
       "      <td>1</td>\n",
       "      <td>87</td>\n",
       "      <td>5</td>\n",
       "      <td>0</td>\n",
       "      <td>64</td>\n",
       "    </tr>\n",
       "    <tr>\n",
       "      <td>671</td>\n",
       "      <td>08-08-2019</td>\n",
       "      <td>2203</td>\n",
       "      <td>2</td>\n",
       "      <td>98</td>\n",
       "      <td>5</td>\n",
       "      <td>1</td>\n",
       "      <td>64</td>\n",
       "    </tr>\n",
       "  </tbody>\n",
       "</table>\n",
       "<p>672 rows × 7 columns</p>\n",
       "</div>"
      ],
      "text/plain": [
       "           date  step_count  mood  calories_burned  hours_of_sleep  \\\n",
       "0    06-10-2017        5464     1              181               5   \n",
       "1    07-10-2017        6041     0              197               8   \n",
       "2    08-10-2017          25     0                0               5   \n",
       "3    09-10-2017        5461     0              174               4   \n",
       "4    10-10-2017        6915     1              223               5   \n",
       "..          ...         ...   ...              ...             ...   \n",
       "667  04-08-2019         133     0                4               3   \n",
       "668  05-08-2019         153     2                4               8   \n",
       "669  06-08-2019         500     1                7               5   \n",
       "670  07-08-2019        2127     1               87               5   \n",
       "671  08-08-2019        2203     2               98               5   \n",
       "\n",
       "     bool_of_active  weight_kg  \n",
       "0                 0         66  \n",
       "1                 0         66  \n",
       "2                 0         66  \n",
       "3                 0         66  \n",
       "4                 1         66  \n",
       "..              ...        ...  \n",
       "667               0         64  \n",
       "668               0         64  \n",
       "669               1         64  \n",
       "670               0         64  \n",
       "671               1         64  \n",
       "\n",
       "[672 rows x 7 columns]"
      ]
     },
     "execution_count": 4,
     "metadata": {},
     "output_type": "execute_result"
    }
   ],
   "source": [
    "df['mood']=le.fit_transform(df['mood'])\n",
    "df"
   ]
  },
  {
   "cell_type": "markdown",
   "metadata": {},
   "source": [
    "# Dependent and Independent variables"
   ]
  },
  {
   "cell_type": "code",
   "execution_count": 5,
   "metadata": {},
   "outputs": [
    {
     "data": {
      "text/html": [
       "<div>\n",
       "<style scoped>\n",
       "    .dataframe tbody tr th:only-of-type {\n",
       "        vertical-align: middle;\n",
       "    }\n",
       "\n",
       "    .dataframe tbody tr th {\n",
       "        vertical-align: top;\n",
       "    }\n",
       "\n",
       "    .dataframe thead th {\n",
       "        text-align: right;\n",
       "    }\n",
       "</style>\n",
       "<table border=\"1\" class=\"dataframe\">\n",
       "  <thead>\n",
       "    <tr style=\"text-align: right;\">\n",
       "      <th></th>\n",
       "      <th>step_count</th>\n",
       "      <th>mood</th>\n",
       "      <th>calories_burned</th>\n",
       "      <th>hours_of_sleep</th>\n",
       "      <th>weight_kg</th>\n",
       "    </tr>\n",
       "  </thead>\n",
       "  <tbody>\n",
       "    <tr>\n",
       "      <td>0</td>\n",
       "      <td>5464</td>\n",
       "      <td>1</td>\n",
       "      <td>181</td>\n",
       "      <td>5</td>\n",
       "      <td>66</td>\n",
       "    </tr>\n",
       "    <tr>\n",
       "      <td>1</td>\n",
       "      <td>6041</td>\n",
       "      <td>0</td>\n",
       "      <td>197</td>\n",
       "      <td>8</td>\n",
       "      <td>66</td>\n",
       "    </tr>\n",
       "    <tr>\n",
       "      <td>2</td>\n",
       "      <td>25</td>\n",
       "      <td>0</td>\n",
       "      <td>0</td>\n",
       "      <td>5</td>\n",
       "      <td>66</td>\n",
       "    </tr>\n",
       "    <tr>\n",
       "      <td>3</td>\n",
       "      <td>5461</td>\n",
       "      <td>0</td>\n",
       "      <td>174</td>\n",
       "      <td>4</td>\n",
       "      <td>66</td>\n",
       "    </tr>\n",
       "    <tr>\n",
       "      <td>4</td>\n",
       "      <td>6915</td>\n",
       "      <td>1</td>\n",
       "      <td>223</td>\n",
       "      <td>5</td>\n",
       "      <td>66</td>\n",
       "    </tr>\n",
       "    <tr>\n",
       "      <td>...</td>\n",
       "      <td>...</td>\n",
       "      <td>...</td>\n",
       "      <td>...</td>\n",
       "      <td>...</td>\n",
       "      <td>...</td>\n",
       "    </tr>\n",
       "    <tr>\n",
       "      <td>667</td>\n",
       "      <td>133</td>\n",
       "      <td>0</td>\n",
       "      <td>4</td>\n",
       "      <td>3</td>\n",
       "      <td>64</td>\n",
       "    </tr>\n",
       "    <tr>\n",
       "      <td>668</td>\n",
       "      <td>153</td>\n",
       "      <td>2</td>\n",
       "      <td>4</td>\n",
       "      <td>8</td>\n",
       "      <td>64</td>\n",
       "    </tr>\n",
       "    <tr>\n",
       "      <td>669</td>\n",
       "      <td>500</td>\n",
       "      <td>1</td>\n",
       "      <td>7</td>\n",
       "      <td>5</td>\n",
       "      <td>64</td>\n",
       "    </tr>\n",
       "    <tr>\n",
       "      <td>670</td>\n",
       "      <td>2127</td>\n",
       "      <td>1</td>\n",
       "      <td>87</td>\n",
       "      <td>5</td>\n",
       "      <td>64</td>\n",
       "    </tr>\n",
       "    <tr>\n",
       "      <td>671</td>\n",
       "      <td>2203</td>\n",
       "      <td>2</td>\n",
       "      <td>98</td>\n",
       "      <td>5</td>\n",
       "      <td>64</td>\n",
       "    </tr>\n",
       "  </tbody>\n",
       "</table>\n",
       "<p>672 rows × 5 columns</p>\n",
       "</div>"
      ],
      "text/plain": [
       "     step_count  mood  calories_burned  hours_of_sleep  weight_kg\n",
       "0          5464     1              181               5         66\n",
       "1          6041     0              197               8         66\n",
       "2            25     0                0               5         66\n",
       "3          5461     0              174               4         66\n",
       "4          6915     1              223               5         66\n",
       "..          ...   ...              ...             ...        ...\n",
       "667         133     0                4               3         64\n",
       "668         153     2                4               8         64\n",
       "669         500     1                7               5         64\n",
       "670        2127     1               87               5         64\n",
       "671        2203     2               98               5         64\n",
       "\n",
       "[672 rows x 5 columns]"
      ]
     },
     "execution_count": 5,
     "metadata": {},
     "output_type": "execute_result"
    }
   ],
   "source": [
    "#Independent variables\n",
    "x=df.iloc[:,[1,2,3,4,6]]\n",
    "x"
   ]
  },
  {
   "cell_type": "code",
   "execution_count": 6,
   "metadata": {
    "scrolled": true
   },
   "outputs": [
    {
     "data": {
      "text/plain": [
       "0      0\n",
       "1      0\n",
       "2      0\n",
       "3      0\n",
       "4      1\n",
       "      ..\n",
       "667    0\n",
       "668    0\n",
       "669    1\n",
       "670    0\n",
       "671    1\n",
       "Name: bool_of_active, Length: 672, dtype: int64"
      ]
     },
     "execution_count": 6,
     "metadata": {},
     "output_type": "execute_result"
    }
   ],
   "source": [
    "#Dependent Variable\n",
    "y=df.iloc[:,5]\n",
    "y"
   ]
  },
  {
   "cell_type": "markdown",
   "metadata": {},
   "source": [
    "# Onehot encoding : "
   ]
  },
  {
   "cell_type": "markdown",
   "metadata": {},
   "source": [
    "sad(0) --> 0 0   \n",
    "neutral(1) --> 1 0   \n",
    "happy(2) --> 0 1  "
   ]
  },
  {
   "cell_type": "code",
   "execution_count": 7,
   "metadata": {},
   "outputs": [
    {
     "name": "stderr",
     "output_type": "stream",
     "text": [
      "C:\\Users\\pavan\\Anaconda3\\lib\\site-packages\\sklearn\\preprocessing\\_encoders.py:415: FutureWarning: The handling of integer data will change in version 0.22. Currently, the categories are determined based on the range [0, max(values)], while in the future they will be determined based on the unique values.\n",
      "If you want the future behaviour and silence this warning, you can specify \"categories='auto'\".\n",
      "In case you used a LabelEncoder before this OneHotEncoder to convert the categories to integers, then you can now use the OneHotEncoder directly.\n",
      "  warnings.warn(msg, FutureWarning)\n",
      "C:\\Users\\pavan\\Anaconda3\\lib\\site-packages\\sklearn\\preprocessing\\_encoders.py:451: DeprecationWarning: The 'categorical_features' keyword is deprecated in version 0.20 and will be removed in 0.22. You can use the ColumnTransformer instead.\n",
      "  \"use the ColumnTransformer instead.\", DeprecationWarning)\n"
     ]
    }
   ],
   "source": [
    "from sklearn.preprocessing import OneHotEncoder\n",
    "oh=OneHotEncoder(categorical_features=[1])\n",
    "x=oh.fit_transform(x).toarray()  "
   ]
  },
  {
   "cell_type": "code",
   "execution_count": 8,
   "metadata": {},
   "outputs": [
    {
     "data": {
      "text/plain": [
       "array([[  0.,   1.,   0., ..., 181.,   5.,  66.],\n",
       "       [  1.,   0.,   0., ..., 197.,   8.,  66.],\n",
       "       [  1.,   0.,   0., ...,   0.,   5.,  66.],\n",
       "       ...,\n",
       "       [  0.,   1.,   0., ...,   7.,   5.,  64.],\n",
       "       [  0.,   1.,   0., ...,  87.,   5.,  64.],\n",
       "       [  0.,   0.,   1., ...,  98.,   5.,  64.]])"
      ]
     },
     "execution_count": 8,
     "metadata": {},
     "output_type": "execute_result"
    }
   ],
   "source": [
    "x"
   ]
  },
  {
   "cell_type": "code",
   "execution_count": 9,
   "metadata": {},
   "outputs": [
    {
     "data": {
      "text/plain": [
       "array([[1.000e+00, 0.000e+00, 5.464e+03, 1.810e+02, 5.000e+00, 6.600e+01],\n",
       "       [0.000e+00, 0.000e+00, 6.041e+03, 1.970e+02, 8.000e+00, 6.600e+01],\n",
       "       [0.000e+00, 0.000e+00, 2.500e+01, 0.000e+00, 5.000e+00, 6.600e+01],\n",
       "       ...,\n",
       "       [1.000e+00, 0.000e+00, 5.000e+02, 7.000e+00, 5.000e+00, 6.400e+01],\n",
       "       [1.000e+00, 0.000e+00, 2.127e+03, 8.700e+01, 5.000e+00, 6.400e+01],\n",
       "       [0.000e+00, 1.000e+00, 2.203e+03, 9.800e+01, 5.000e+00, 6.400e+01]])"
      ]
     },
     "execution_count": 9,
     "metadata": {},
     "output_type": "execute_result"
    }
   ],
   "source": [
    "x=x[:,1:]\n",
    "x"
   ]
  },
  {
   "cell_type": "markdown",
   "metadata": {},
   "source": [
    "# Splitting dataset into train and test sets (90-10) : "
   ]
  },
  {
   "cell_type": "code",
   "execution_count": 10,
   "metadata": {},
   "outputs": [],
   "source": [
    "#Splitting the dataset into Train set and Test set\n",
    "from sklearn import model_selection, neighbors\n",
    "from sklearn.model_selection import train_test_split\n",
    "x_train, x_test, y_train, y_test = train_test_split(x,y,test_size=0.1,random_state=0)\n",
    "x_train1=x_train\n",
    "x_test1=x_test"
   ]
  },
  {
   "cell_type": "markdown",
   "metadata": {},
   "source": [
    "# Feature Scaling"
   ]
  },
  {
   "cell_type": "code",
   "execution_count": 11,
   "metadata": {},
   "outputs": [],
   "source": [
    "#Apply normalization to rescale the features to a standard range of values.\n",
    "from sklearn.preprocessing import StandardScaler\n",
    "scaler = StandardScaler()\n",
    "x_train = scaler.fit_transform(x_train)\n",
    "x_test = scaler.transform(x_test)"
   ]
  },
  {
   "cell_type": "code",
   "execution_count": 12,
   "metadata": {},
   "outputs": [
    {
     "data": {
      "text/plain": [
       "array([[ 1.68011452, -0.94207218, -1.15992048, -1.26376434, -0.24541261,\n",
       "        -0.42761284],\n",
       "       [-0.59519752,  1.06148978,  0.07183731,  0.05451824, -0.24541261,\n",
       "        -0.42761284],\n",
       "       [ 1.68011452, -0.94207218,  0.66492329,  0.64353811, -0.85540938,\n",
       "         1.24951803],\n",
       "       ...,\n",
       "       [-0.59519752,  1.06148978,  1.17294701,  1.17646086, -0.24541261,\n",
       "         2.92664889],\n",
       "       [-0.59519752, -0.94207218, -0.84833886, -0.87108442,  0.36458416,\n",
       "        -0.42761284],\n",
       "       [-0.59519752, -0.94207218, -1.04102131, -0.9692544 , -0.24541261,\n",
       "        -0.42761284]])"
      ]
     },
     "execution_count": 12,
     "metadata": {},
     "output_type": "execute_result"
    }
   ],
   "source": [
    "x_train"
   ]
  },
  {
   "cell_type": "code",
   "execution_count": 13,
   "metadata": {
    "scrolled": true
   },
   "outputs": [
    {
     "data": {
      "text/plain": [
       "array([[-0.59519752, -0.94207218,  0.54273442,  0.489271  ,  0.36458416,\n",
       "         2.92664889],\n",
       "       [ 1.68011452, -0.94207218, -1.25767158, -1.20766721, -0.24541261,\n",
       "        -0.42761284],\n",
       "       [-0.59519752, -0.94207218, -0.65236672, -0.67474446, -0.24541261,\n",
       "         1.24951803],\n",
       "       [-0.59519752, -0.94207218, -1.01893332, -1.01132725, -0.85540938,\n",
       "        -0.42761284],\n",
       "       [ 1.68011452, -0.94207218,  0.28519788,  0.26488248, -0.24541261,\n",
       "        -0.42761284],\n",
       "       [-0.59519752,  1.06148978,  2.09312319,  2.04596638,  1.5845777 ,\n",
       "        -0.42761284],\n",
       "       [-0.59519752,  1.06148978,  0.67197264,  0.71365953, -0.24541261,\n",
       "        -0.42761284],\n",
       "       [-0.59519752,  1.06148978,  0.04598967,  0.02646967, -0.85540938,\n",
       "        -0.42761284],\n",
       "       [ 1.68011452, -0.94207218,  1.65982266,  1.61121362, -0.24541261,\n",
       "        -0.42761284],\n",
       "       [ 1.68011452, -0.94207218,  0.08922573,  0.05451824, -0.24541261,\n",
       "        -0.42761284],\n",
       "       [-0.59519752,  1.06148978, -1.14159215, -1.13754579, -0.24541261,\n",
       "        -0.42761284],\n",
       "       [ 1.68011452, -0.94207218,  0.67197264,  0.69963524, -0.85540938,\n",
       "        -0.42761284],\n",
       "       [-0.59519752, -0.94207218, -1.11339472, -1.03937581, -0.85540938,\n",
       "        -0.42761284],\n",
       "       [-0.59519752,  1.06148978,  0.91635038,  0.79780522,  0.36458416,\n",
       "        -0.42761284],\n",
       "       [-0.59519752,  1.06148978,  0.77066365,  0.79780522, -0.24541261,\n",
       "        -0.42761284],\n",
       "       [ 1.68011452, -0.94207218,  1.65982266,  1.6252379 , -0.24541261,\n",
       "        -0.42761284],\n",
       "       [ 1.68011452, -0.94207218, -1.30184755, -1.2918129 ,  1.5845777 ,\n",
       "        -0.42761284],\n",
       "       [ 1.68011452, -0.94207218,  0.91776025,  0.85390235, -0.85540938,\n",
       "        -0.42761284],\n",
       "       [-0.59519752, -0.94207218, -1.31641622, -1.2918129 , -0.24541261,\n",
       "        -0.42761284],\n",
       "       [ 1.68011452, -0.94207218, -1.29056858, -1.27778862,  1.5845777 ,\n",
       "        -0.42761284],\n",
       "       [-0.59519752,  1.06148978,  0.28519788,  0.26488248, -0.24541261,\n",
       "        -0.42761284],\n",
       "       [ 1.68011452, -0.94207218, -1.15992048, -1.33388575, -0.24541261,\n",
       "        -0.42761284],\n",
       "       [ 1.68011452, -0.94207218, -0.3506542 , -0.28206455, -0.24541261,\n",
       "        -0.42761284],\n",
       "       [ 1.68011452, -0.94207218, -0.53440746, -0.5625502 , -0.24541261,\n",
       "        -0.42761284],\n",
       "       [-0.59519752, -0.94207218, -1.30983682, -1.26376434,  1.5845777 ,\n",
       "        -0.42761284],\n",
       "       [-0.59519752, -0.94207218, -0.06867989, -0.155846  , -0.24541261,\n",
       "         1.24951803],\n",
       "       [-0.59519752, -0.94207218, -1.066399  , -1.01132725, -0.85540938,\n",
       "        -0.42761284],\n",
       "       [-0.59519752,  1.06148978, -1.14159215, -1.17961864, -0.24541261,\n",
       "        -0.42761284],\n",
       "       [ 1.68011452, -0.94207218,  0.66492329,  0.65756239, -0.85540938,\n",
       "        -0.42761284],\n",
       "       [-0.59519752, -0.94207218, -1.38315015, -1.36193432, -1.46540615,\n",
       "         2.92664889],\n",
       "       [-0.59519752,  1.06148978, -1.13125309, -0.98327868,  0.97458093,\n",
       "        -0.42761284],\n",
       "       [-0.59519752,  1.06148978,  0.61416791,  0.67158668, -0.24541261,\n",
       "        -0.42761284],\n",
       "       [-0.59519752,  1.06148978,  1.41967453,  1.40084938, -0.85540938,\n",
       "        -0.42761284],\n",
       "       [-0.59519752,  1.06148978,  1.85485489,  1.76548073,  0.97458093,\n",
       "         2.92664889],\n",
       "       [-0.59519752,  1.06148978,  0.80779027,  0.76975666, -0.24541261,\n",
       "         1.24951803],\n",
       "       [-0.59519752,  1.06148978,  0.01497249, -0.18389457,  1.5845777 ,\n",
       "        -0.42761284],\n",
       "       [ 1.68011452, -0.94207218,  0.45720221,  0.39110102, -0.24541261,\n",
       "        -0.42761284],\n",
       "       [ 1.68011452, -0.94207218,  1.44411231,  1.40084938, -0.24541261,\n",
       "        -0.42761284],\n",
       "       [-0.59519752,  1.06148978,  1.57241062,  1.34475225,  0.97458093,\n",
       "        -0.42761284],\n",
       "       [ 1.68011452, -0.94207218, -0.35676364, -0.35218596,  0.36458416,\n",
       "        -0.42761284],\n",
       "       [-0.59519752, -0.94207218, -1.02974234, -0.89913299, -0.85540938,\n",
       "        -0.42761284],\n",
       "       [-0.59519752, -0.94207218, -1.15146125, -1.13754579, -0.85540938,\n",
       "        -0.42761284],\n",
       "       [-0.59519752,  1.06148978,  1.86190425,  1.91974784,  0.36458416,\n",
       "        -0.42761284],\n",
       "       [-0.59519752, -0.94207218, -1.04102131, -0.9692544 , -0.85540938,\n",
       "        -0.42761284],\n",
       "       [-0.59519752,  1.06148978,  1.42437411,  1.44292223,  0.97458093,\n",
       "        -0.42761284],\n",
       "       [ 1.68011452, -0.94207218,  1.94273689,  1.82157786,  0.36458416,\n",
       "        -0.42761284],\n",
       "       [ 1.68011452, -0.94207218, -0.02779361,  0.02646967, -1.46540615,\n",
       "        -0.42761284],\n",
       "       [-0.59519752, -0.94207218, -1.33239477, -1.30583719, -1.46540615,\n",
       "        -0.42761284],\n",
       "       [ 1.68011452, -0.94207218, -0.02779361, -0.05767602, -1.46540615,\n",
       "        -0.42761284],\n",
       "       [-0.59519752, -0.94207218, -1.33239477, -1.2918129 , -2.07540292,\n",
       "        -0.42761284],\n",
       "       [-0.59519752, -0.94207218, -0.81685173, -0.91315727,  0.97458093,\n",
       "         2.92664889],\n",
       "       [ 1.68011452, -0.94207218, -1.1740192 , -1.19364292, -0.24541261,\n",
       "        -0.42761284],\n",
       "       [-0.59519752,  1.06148978, -0.92729167, -0.91315727,  0.36458416,\n",
       "        -0.42761284],\n",
       "       [-0.59519752, -0.94207218,  0.74105635,  0.72768381,  0.97458093,\n",
       "         2.92664889],\n",
       "       [-0.59519752,  1.06148978, -1.13830245, -1.13754579,  0.36458416,\n",
       "        -0.42761284],\n",
       "       [-0.59519752,  1.06148978, -1.04102131, -0.9692544 , -0.85540938,\n",
       "        -0.42761284],\n",
       "       [ 1.68011452, -0.94207218,  0.08781586,  0.04049396, -0.24541261,\n",
       "         1.24951803],\n",
       "       [-0.59519752, -0.94207218, -1.36153211, -1.31986147, -0.24541261,\n",
       "         2.92664889],\n",
       "       [-0.59519752, -0.94207218, -0.59785168, -0.59059877,  0.36458416,\n",
       "        -0.42761284],\n",
       "       [-0.59519752,  1.06148978,  1.86190425,  1.91974784,  0.36458416,\n",
       "        -0.42761284],\n",
       "       [-0.59519752, -0.94207218, -1.30983682, -1.24974005,  2.19457447,\n",
       "         1.24951803],\n",
       "       [-0.59519752, -0.94207218, -0.59785168, -0.59059877, -2.07540292,\n",
       "        -0.42761284],\n",
       "       [-0.59519752,  1.06148978,  2.09312319,  2.04596638,  0.36458416,\n",
       "        -0.42761284],\n",
       "       [-0.59519752,  1.06148978,  0.30070646,  0.30695533, -0.24541261,\n",
       "        -0.42761284],\n",
       "       [-0.59519752,  1.06148978, -0.58093322, -0.75889016, -0.24541261,\n",
       "        -0.42761284],\n",
       "       [-0.59519752,  1.06148978,  0.08499611,  0.05451824,  1.5845777 ,\n",
       "        -0.42761284],\n",
       "       [-0.59519752,  1.06148978, -1.16039044, -1.03937581,  0.36458416,\n",
       "        -0.42761284],\n",
       "       [-0.59519752,  1.06148978, -1.01611358, -0.91315727,  0.36458416,\n",
       "        -0.42761284]])"
      ]
     },
     "execution_count": 13,
     "metadata": {},
     "output_type": "execute_result"
    }
   ],
   "source": [
    "x_test"
   ]
  },
  {
   "cell_type": "markdown",
   "metadata": {},
   "source": [
    "# Model Buiding : "
   ]
  },
  {
   "cell_type": "markdown",
   "metadata": {},
   "source": [
    "# Testing Model"
   ]
  },
  {
   "cell_type": "markdown",
   "metadata": {},
   "source": [
    "# 1. KNN Classification"
   ]
  },
  {
   "cell_type": "code",
   "execution_count": 20,
   "metadata": {},
   "outputs": [],
   "source": [
    "#Loading model\n",
    "knn=pickle.load(open('knnmodel.pkl','rb'))"
   ]
  },
  {
   "cell_type": "code",
   "execution_count": 21,
   "metadata": {},
   "outputs": [
    {
     "data": {
      "text/plain": [
       "array([1, 0, 0, 0, 1, 1, 0, 1, 1, 0, 1, 0, 1, 1, 1, 1, 0, 1, 0, 1, 1, 1,\n",
       "       0, 0, 0, 1, 0, 1, 0, 0, 1, 0, 1, 1, 0, 1, 1, 0, 1, 0, 1, 0, 1, 0,\n",
       "       1, 1, 1, 0, 1, 0, 0, 1, 1, 0, 0, 0, 0, 0, 0, 1, 0, 0, 1, 1, 0, 0,\n",
       "       1, 0], dtype=int64)"
      ]
     },
     "execution_count": 21,
     "metadata": {},
     "output_type": "execute_result"
    }
   ],
   "source": [
    "knn_y_test=knn.predict(x_test1)\n",
    "knn_y_test"
   ]
  },
  {
   "cell_type": "code",
   "execution_count": 22,
   "metadata": {},
   "outputs": [
    {
     "data": {
      "text/plain": [
       "85.29411764705883"
      ]
     },
     "execution_count": 22,
     "metadata": {},
     "output_type": "execute_result"
    }
   ],
   "source": [
    "knn.score(x_test1,y_test)*100"
   ]
  },
  {
   "cell_type": "code",
   "execution_count": 23,
   "metadata": {},
   "outputs": [
    {
     "data": {
      "text/plain": [
       "array([[31,  7],\n",
       "       [ 3, 27]], dtype=int64)"
      ]
     },
     "execution_count": 23,
     "metadata": {},
     "output_type": "execute_result"
    }
   ],
   "source": [
    "#confusion matrix\n",
    "from sklearn.metrics import confusion_matrix\n",
    "knn_cm_test = confusion_matrix(y_test,knn_y_test)\n",
    "knn_cm_test"
   ]
  },
  {
   "cell_type": "code",
   "execution_count": 24,
   "metadata": {},
   "outputs": [],
   "source": [
    "#Cross Validation\n",
    "from sklearn.model_selection import cross_val_score, cross_val_predict\n",
    "knn_acc = cross_val_score(knn, x_test1, y_test, cv=5, scoring='accuracy', n_jobs=-1)\n",
    "knn_proba = cross_val_predict(knn, x_test1, y_test, cv=5, method='predict_proba')\n",
    "knn_scores = knn_proba[:, 1]"
   ]
  },
  {
   "cell_type": "code",
   "execution_count": 25,
   "metadata": {},
   "outputs": [
    {
     "data": {
      "text/plain": [
       "array([78.57142857, 71.42857143, 64.28571429, 76.92307692, 84.61538462])"
      ]
     },
     "execution_count": 25,
     "metadata": {},
     "output_type": "execute_result"
    }
   ],
   "source": [
    "knn_acc*100"
   ]
  },
  {
   "cell_type": "code",
   "execution_count": 26,
   "metadata": {},
   "outputs": [
    {
     "data": {
      "text/plain": [
       "75.16483516483517"
      ]
     },
     "execution_count": 26,
     "metadata": {},
     "output_type": "execute_result"
    }
   ],
   "source": [
    "knn_acc.mean()*100"
   ]
  },
  {
   "cell_type": "markdown",
   "metadata": {},
   "source": [
    "**Evaluation :**"
   ]
  },
  {
   "cell_type": "code",
   "execution_count": 27,
   "metadata": {},
   "outputs": [
    {
     "name": "stdout",
     "output_type": "stream",
     "text": [
      "\n",
      "Accuracy score: 85.294118\n",
      "\n",
      "ROC score : 85.789474\n",
      "\n",
      "Precision score : 79.411765\n",
      "\n",
      "Recall score : 90.000000\n",
      "\n",
      "Confusion matrix : \n",
      "[[31  7]\n",
      " [ 3 27]]\n"
     ]
    }
   ],
   "source": [
    "from sklearn.metrics import accuracy_score, recall_score, roc_auc_score, precision_score, roc_curve\n",
    "\n",
    "print(\"\\nAccuracy score: %f\\n\" %(accuracy_score(y_test, knn_y_test) * 100))\n",
    "print(\"ROC score : %f\\n\" %(roc_auc_score(y_test, knn_y_test) * 100))\n",
    "print(\"Precision score : %f\\n\" %(precision_score(y_test, knn_y_test) * 100))\n",
    "print(\"Recall score : %f\\n\" %(recall_score(y_test, knn_y_test) * 100))\n",
    "print(\"Confusion matrix : \")\n",
    "print(confusion_matrix(y_test, knn_y_test))"
   ]
  },
  {
   "cell_type": "markdown",
   "metadata": {},
   "source": [
    "# 2. Logistic Regression Classification"
   ]
  },
  {
   "cell_type": "code",
   "execution_count": 513,
   "metadata": {},
   "outputs": [],
   "source": [
    "lg=pickle.load(open('lgmodel.pkl','rb'))"
   ]
  },
  {
   "cell_type": "code",
   "execution_count": 514,
   "metadata": {},
   "outputs": [
    {
     "data": {
      "text/plain": [
       "array([0, 0, 0, 0, 0, 1, 1, 1, 1, 0, 1, 0, 0, 1, 1, 1, 0, 0, 0, 0, 1, 0,\n",
       "       0, 0, 0, 0, 0, 1, 0, 0, 1, 1, 1, 1, 1, 1, 0, 1, 1, 0, 0, 0, 1, 0,\n",
       "       1, 1, 0, 0, 0, 0, 0, 0, 1, 0, 1, 1, 0, 0, 0, 1, 0, 0, 1, 1, 1, 1,\n",
       "       1, 1], dtype=int64)"
      ]
     },
     "execution_count": 514,
     "metadata": {},
     "output_type": "execute_result"
    }
   ],
   "source": [
    "lg_y_test = lg.predict(x_test1)\n",
    "lg_y_test"
   ]
  },
  {
   "cell_type": "code",
   "execution_count": 515,
   "metadata": {},
   "outputs": [
    {
     "data": {
      "text/plain": [
       "80.88235294117648"
      ]
     },
     "execution_count": 515,
     "metadata": {},
     "output_type": "execute_result"
    }
   ],
   "source": [
    "lg.score(x_test1,y_test)*100"
   ]
  },
  {
   "cell_type": "code",
   "execution_count": 516,
   "metadata": {},
   "outputs": [
    {
     "data": {
      "text/plain": [
       "array([[31,  7],\n",
       "       [ 6, 24]], dtype=int64)"
      ]
     },
     "execution_count": 516,
     "metadata": {},
     "output_type": "execute_result"
    }
   ],
   "source": [
    "confusion_matrix(y_test, lg_y_test)"
   ]
  },
  {
   "cell_type": "code",
   "execution_count": 517,
   "metadata": {},
   "outputs": [
    {
     "name": "stderr",
     "output_type": "stream",
     "text": [
      "C:\\Users\\pavan\\Anaconda3\\lib\\site-packages\\sklearn\\linear_model\\logistic.py:947: ConvergenceWarning: lbfgs failed to converge. Increase the number of iterations.\n",
      "  \"of iterations.\", ConvergenceWarning)\n",
      "C:\\Users\\pavan\\Anaconda3\\lib\\site-packages\\sklearn\\linear_model\\logistic.py:947: ConvergenceWarning: lbfgs failed to converge. Increase the number of iterations.\n",
      "  \"of iterations.\", ConvergenceWarning)\n"
     ]
    }
   ],
   "source": [
    "lg_acc = cross_val_score(lg, x_test1, y_test, cv=5, scoring='accuracy', n_jobs=-1)\n",
    "lg_proba = cross_val_predict(lg, x_test1, y_test, cv=5, method='predict_proba')\n",
    "lg_scores = lg_proba[:, 1]"
   ]
  },
  {
   "cell_type": "code",
   "execution_count": 518,
   "metadata": {},
   "outputs": [
    {
     "data": {
      "text/plain": [
       "array([78.57142857, 78.57142857, 64.28571429, 76.92307692, 76.92307692])"
      ]
     },
     "execution_count": 518,
     "metadata": {},
     "output_type": "execute_result"
    }
   ],
   "source": [
    "lg_acc*100"
   ]
  },
  {
   "cell_type": "code",
   "execution_count": 519,
   "metadata": {},
   "outputs": [
    {
     "data": {
      "text/plain": [
       "75.05494505494505"
      ]
     },
     "execution_count": 519,
     "metadata": {},
     "output_type": "execute_result"
    }
   ],
   "source": [
    "lg_acc.mean()*100"
   ]
  },
  {
   "cell_type": "markdown",
   "metadata": {},
   "source": [
    "**Evaluation :**"
   ]
  },
  {
   "cell_type": "code",
   "execution_count": 520,
   "metadata": {},
   "outputs": [
    {
     "name": "stdout",
     "output_type": "stream",
     "text": [
      "\n",
      "Accuracy score: 80.882353\n",
      "\n",
      "ROC score : 80.789474\n",
      "\n",
      "Precision score : 77.419355\n",
      "\n",
      "Recall score : 80.000000\n",
      "\n",
      "Confusion matrix : \n",
      "[[31  7]\n",
      " [ 6 24]]\n"
     ]
    }
   ],
   "source": [
    "print(\"\\nAccuracy score: %f\\n\" %(accuracy_score(y_test,lg_y_test) * 100))\n",
    "print(\"ROC score : %f\\n\" %(roc_auc_score(y_test, lg_y_test) * 100))\n",
    "print(\"Precision score : %f\\n\" %(precision_score(y_test, lg_y_test) * 100))\n",
    "print(\"Recall score : %f\\n\" %(recall_score(y_test, lg_y_test) * 100))\n",
    "print(\"Confusion matrix : \")\n",
    "print(confusion_matrix(y_test, lg_y_test))"
   ]
  },
  {
   "cell_type": "markdown",
   "metadata": {},
   "source": [
    "# 3. Naive Bayes Classification"
   ]
  },
  {
   "cell_type": "code",
   "execution_count": 521,
   "metadata": {},
   "outputs": [],
   "source": [
    "nb=pickle.load(open('nbmodel.pkl','rb'))"
   ]
  },
  {
   "cell_type": "code",
   "execution_count": 522,
   "metadata": {},
   "outputs": [
    {
     "data": {
      "text/plain": [
       "array([0, 0, 0, 0, 1, 1, 1, 1, 1, 0, 1, 1, 0, 1, 1, 1, 0, 1, 0, 0, 1, 0,\n",
       "       0, 0, 0, 0, 0, 1, 1, 0, 1, 1, 1, 0, 0, 1, 1, 1, 1, 0, 0, 0, 1, 0,\n",
       "       1, 1, 0, 0, 0, 0, 0, 0, 1, 0, 1, 1, 0, 0, 0, 1, 0, 0, 1, 1, 1, 1,\n",
       "       1, 1], dtype=int64)"
      ]
     },
     "execution_count": 522,
     "metadata": {},
     "output_type": "execute_result"
    }
   ],
   "source": [
    "nb_y_test = nb.predict(x_test)  #for test\n",
    "nb_y_test"
   ]
  },
  {
   "cell_type": "code",
   "execution_count": 523,
   "metadata": {},
   "outputs": [
    {
     "data": {
      "text/plain": [
       "82.35294117647058"
      ]
     },
     "execution_count": 523,
     "metadata": {},
     "output_type": "execute_result"
    }
   ],
   "source": [
    "nb.score(x_test,y_test)*100"
   ]
  },
  {
   "cell_type": "code",
   "execution_count": 524,
   "metadata": {},
   "outputs": [
    {
     "data": {
      "text/plain": [
       "array([[30,  8],\n",
       "       [ 4, 26]], dtype=int64)"
      ]
     },
     "execution_count": 524,
     "metadata": {},
     "output_type": "execute_result"
    }
   ],
   "source": [
    "confusion_matrix(y_test,nb_y_test)"
   ]
  },
  {
   "cell_type": "code",
   "execution_count": 525,
   "metadata": {},
   "outputs": [],
   "source": [
    "nb_acc = cross_val_score(nb, x_test, y_test, cv=3, scoring='accuracy', n_jobs=-1)\n",
    "nb_proba = cross_val_predict(nb, x_test, y_test, cv=3, method='predict_proba')\n",
    "nb_scores = nb_proba[:, 1]"
   ]
  },
  {
   "cell_type": "code",
   "execution_count": 526,
   "metadata": {},
   "outputs": [
    {
     "data": {
      "text/plain": [
       "array([86.95652174, 52.17391304, 77.27272727])"
      ]
     },
     "execution_count": 526,
     "metadata": {},
     "output_type": "execute_result"
    }
   ],
   "source": [
    "nb_acc*100"
   ]
  },
  {
   "cell_type": "code",
   "execution_count": 527,
   "metadata": {},
   "outputs": [
    {
     "data": {
      "text/plain": [
       "72.13438735177866"
      ]
     },
     "execution_count": 527,
     "metadata": {},
     "output_type": "execute_result"
    }
   ],
   "source": [
    "nb_acc.mean()*100"
   ]
  },
  {
   "cell_type": "markdown",
   "metadata": {},
   "source": [
    "**Evaluation :**"
   ]
  },
  {
   "cell_type": "code",
   "execution_count": 528,
   "metadata": {},
   "outputs": [
    {
     "name": "stdout",
     "output_type": "stream",
     "text": [
      "\n",
      "Accuracy score: 82.352941\n",
      "\n",
      "ROC score : 82.807018\n",
      "\n",
      "Precision score : 76.470588\n",
      "\n",
      "Recall score : 86.666667\n",
      "\n",
      "Confusion matrix : \n",
      "[[30  8]\n",
      " [ 4 26]]\n"
     ]
    }
   ],
   "source": [
    "print(\"\\nAccuracy score: %f\\n\" %(accuracy_score(y_test,nb_y_test) * 100))\n",
    "print(\"ROC score : %f\\n\" %(roc_auc_score(y_test, nb_y_test) * 100))\n",
    "print(\"Precision score : %f\\n\" %(precision_score(y_test, nb_y_test) * 100))\n",
    "print(\"Recall score : %f\\n\" %(recall_score(y_test, nb_y_test) * 100))\n",
    "print(\"Confusion matrix : \")\n",
    "print(confusion_matrix(y_test, nb_y_test))"
   ]
  },
  {
   "cell_type": "markdown",
   "metadata": {},
   "source": [
    "# 4. Support Vector Machines Classification"
   ]
  },
  {
   "cell_type": "code",
   "execution_count": 529,
   "metadata": {},
   "outputs": [],
   "source": [
    "svc=pickle.load(open('svcmodel.pkl','rb'))"
   ]
  },
  {
   "cell_type": "code",
   "execution_count": 530,
   "metadata": {},
   "outputs": [
    {
     "data": {
      "text/plain": [
       "array([0, 1, 0, 0, 0, 1, 1, 1, 1, 0, 1, 0, 0, 1, 1, 1, 0, 0, 0, 0, 1, 1,\n",
       "       1, 1, 0, 0, 0, 1, 0, 0, 1, 1, 1, 0, 1, 1, 0, 1, 1, 1, 0, 0, 1, 0,\n",
       "       1, 1, 0, 0, 0, 0, 0, 1, 1, 0, 1, 1, 0, 0, 0, 1, 0, 0, 1, 1, 1, 1,\n",
       "       1, 1], dtype=int64)"
      ]
     },
     "execution_count": 530,
     "metadata": {},
     "output_type": "execute_result"
    }
   ],
   "source": [
    "svc_y_test = svc.predict(x_test)\n",
    "svc_y_test"
   ]
  },
  {
   "cell_type": "code",
   "execution_count": 531,
   "metadata": {},
   "outputs": [
    {
     "data": {
      "text/plain": [
       "73.52941176470588"
      ]
     },
     "execution_count": 531,
     "metadata": {},
     "output_type": "execute_result"
    }
   ],
   "source": [
    "svc.score(x_test,y_test)*100"
   ]
  },
  {
   "cell_type": "code",
   "execution_count": 532,
   "metadata": {},
   "outputs": [
    {
     "data": {
      "text/plain": [
       "array([[26, 12],\n",
       "       [ 6, 24]], dtype=int64)"
      ]
     },
     "execution_count": 532,
     "metadata": {},
     "output_type": "execute_result"
    }
   ],
   "source": [
    "svc_cm_test = confusion_matrix(y_test, svc_y_test)   \n",
    "svc_cm_test"
   ]
  },
  {
   "cell_type": "code",
   "execution_count": 533,
   "metadata": {},
   "outputs": [],
   "source": [
    "svm_acc = cross_val_score(svc, x_test, y_test, cv=3, scoring='accuracy', n_jobs=-1)\n",
    "svm_proba = cross_val_predict(svc, x_test, y_test, cv=3, method='predict_proba')\n",
    "svm_scores = svm_proba[:, 1]"
   ]
  },
  {
   "cell_type": "code",
   "execution_count": 534,
   "metadata": {},
   "outputs": [
    {
     "data": {
      "text/plain": [
       "array([86.95652174, 69.56521739, 77.27272727])"
      ]
     },
     "execution_count": 534,
     "metadata": {},
     "output_type": "execute_result"
    }
   ],
   "source": [
    "svm_acc*100"
   ]
  },
  {
   "cell_type": "code",
   "execution_count": 535,
   "metadata": {},
   "outputs": [
    {
     "data": {
      "text/plain": [
       "77.931488801054"
      ]
     },
     "execution_count": 535,
     "metadata": {},
     "output_type": "execute_result"
    }
   ],
   "source": [
    "svm_acc.mean()*100"
   ]
  },
  {
   "cell_type": "markdown",
   "metadata": {},
   "source": [
    "**Evaluation :**"
   ]
  },
  {
   "cell_type": "code",
   "execution_count": 536,
   "metadata": {},
   "outputs": [
    {
     "name": "stdout",
     "output_type": "stream",
     "text": [
      "\n",
      "Accuracy score: 73.529412\n",
      "\n",
      "ROC score : 74.210526\n",
      "\n",
      "Precision score : 66.666667\n",
      "\n",
      "Recall score : 80.000000\n",
      "\n",
      "Confusion matrix :\n",
      "[[26 12]\n",
      " [ 6 24]]\n"
     ]
    }
   ],
   "source": [
    "print(\"\\nAccuracy score: %f\\n\" %(accuracy_score(y_test,svc_y_test) * 100))\n",
    "print(\"ROC score : %f\\n\" %(roc_auc_score(y_test, svc_y_test) * 100))\n",
    "print(\"Precision score : %f\\n\" %(precision_score(y_test, svc_y_test) * 100))\n",
    "print(\"Recall score : %f\\n\" %(recall_score(y_test, svc_y_test) * 100))\n",
    "print(\"Confusion matrix :\")\n",
    "print(confusion_matrix(y_test, svc_y_test))"
   ]
  },
  {
   "cell_type": "markdown",
   "metadata": {},
   "source": [
    "# 5. Decision Tree Classification"
   ]
  },
  {
   "cell_type": "code",
   "execution_count": 537,
   "metadata": {},
   "outputs": [],
   "source": [
    "dtc=pickle.load(open('dtcmodel.pkl','rb'))"
   ]
  },
  {
   "cell_type": "code",
   "execution_count": 538,
   "metadata": {},
   "outputs": [
    {
     "data": {
      "text/plain": [
       "82.35294117647058"
      ]
     },
     "execution_count": 538,
     "metadata": {},
     "output_type": "execute_result"
    }
   ],
   "source": [
    "dtc.score(x_test,y_test)*100"
   ]
  },
  {
   "cell_type": "code",
   "execution_count": 539,
   "metadata": {},
   "outputs": [
    {
     "data": {
      "text/plain": [
       "array([0, 0, 0, 0, 1, 1, 0, 1, 1, 1, 0, 0, 0, 1, 1, 1, 0, 0, 0, 0, 1, 1,\n",
       "       0, 1, 0, 0, 0, 0, 0, 0, 1, 0, 0, 1, 1, 1, 0, 0, 1, 0, 0, 0, 1, 0,\n",
       "       0, 1, 1, 0, 1, 0, 0, 0, 1, 0, 0, 0, 0, 0, 0, 1, 0, 0, 1, 1, 1, 1,\n",
       "       1, 1], dtype=int64)"
      ]
     },
     "execution_count": 539,
     "metadata": {},
     "output_type": "execute_result"
    }
   ],
   "source": [
    "dtc_y_test=dtc.predict(x_test)\n",
    "dtc_y_test"
   ]
  },
  {
   "cell_type": "code",
   "execution_count": 540,
   "metadata": {},
   "outputs": [
    {
     "data": {
      "text/plain": [
       "array([[33,  5],\n",
       "       [ 7, 23]], dtype=int64)"
      ]
     },
     "execution_count": 540,
     "metadata": {},
     "output_type": "execute_result"
    }
   ],
   "source": [
    "confusion_matrix(y_test, dtc_y_test)"
   ]
  },
  {
   "cell_type": "code",
   "execution_count": 541,
   "metadata": {},
   "outputs": [],
   "source": [
    "#Print cross validation score for Decision Tree Calssifier\n",
    "dtc_clf_acc = cross_val_score(dtc, x_test, y_test, cv=6, scoring=\"accuracy\",  n_jobs=-1)\n",
    "dtc_proba = cross_val_predict(dtc, x_test, y_test, cv=6, method='predict_proba')\n",
    "dtc_scores = dtc_proba[:, 1]"
   ]
  },
  {
   "cell_type": "code",
   "execution_count": 542,
   "metadata": {},
   "outputs": [
    {
     "data": {
      "text/plain": [
       "array([91.66666667, 58.33333333, 54.54545455, 81.81818182, 54.54545455,\n",
       "       81.81818182])"
      ]
     },
     "execution_count": 542,
     "metadata": {},
     "output_type": "execute_result"
    }
   ],
   "source": [
    "dtc_clf_acc*100"
   ]
  },
  {
   "cell_type": "code",
   "execution_count": 543,
   "metadata": {},
   "outputs": [
    {
     "data": {
      "text/plain": [
       "70.45454545454545"
      ]
     },
     "execution_count": 543,
     "metadata": {},
     "output_type": "execute_result"
    }
   ],
   "source": [
    "dtc_clf_acc.mean()*100"
   ]
  },
  {
   "cell_type": "markdown",
   "metadata": {},
   "source": [
    "**Evaluation :**"
   ]
  },
  {
   "cell_type": "code",
   "execution_count": 544,
   "metadata": {},
   "outputs": [
    {
     "name": "stdout",
     "output_type": "stream",
     "text": [
      "\n",
      "Accuracy score: 82.352941\n",
      "\n",
      "ROC score : 81.754386\n",
      "\n",
      "Precision score : 82.142857\n",
      "\n",
      "Recall score : 76.666667\n",
      "\n",
      "Confusion matrix : \n",
      "[[33  5]\n",
      " [ 7 23]]\n"
     ]
    }
   ],
   "source": [
    "print(\"\\nAccuracy score: %f\\n\" %(accuracy_score(y_test,dtc_y_test) * 100))\n",
    "print(\"ROC score : %f\\n\" %(roc_auc_score(y_test, dtc_y_test) * 100))\n",
    "print(\"Precision score : %f\\n\" %(precision_score(y_test, dtc_y_test) * 100))\n",
    "print(\"Recall score : %f\\n\" %(recall_score(y_test, dtc_y_test) * 100))\n",
    "print(\"Confusion matrix : \")\n",
    "print(confusion_matrix(y_test, dtc_y_test)) "
   ]
  },
  {
   "cell_type": "markdown",
   "metadata": {},
   "source": [
    "# 6. Random Forest Classification"
   ]
  },
  {
   "cell_type": "code",
   "execution_count": 545,
   "metadata": {},
   "outputs": [],
   "source": [
    "rmf=pickle.load(open('rmfmodel.pkl','rb'))"
   ]
  },
  {
   "cell_type": "code",
   "execution_count": 546,
   "metadata": {},
   "outputs": [
    {
     "data": {
      "text/plain": [
       "80.88235294117648"
      ]
     },
     "execution_count": 546,
     "metadata": {},
     "output_type": "execute_result"
    }
   ],
   "source": [
    "rmf.score(x_test,y_test)*100"
   ]
  },
  {
   "cell_type": "code",
   "execution_count": 547,
   "metadata": {},
   "outputs": [
    {
     "data": {
      "text/plain": [
       "array([0, 0, 0, 0, 1, 1, 0, 1, 1, 1, 0, 1, 0, 0, 1, 1, 0, 0, 0, 0, 1, 1,\n",
       "       0, 1, 0, 0, 0, 1, 1, 0, 1, 0, 1, 1, 0, 1, 0, 1, 1, 0, 0, 0, 1, 0,\n",
       "       1, 1, 1, 0, 1, 0, 0, 1, 1, 0, 0, 1, 0, 0, 0, 1, 0, 0, 1, 1, 0, 1,\n",
       "       1, 1], dtype=int64)"
      ]
     },
     "execution_count": 547,
     "metadata": {},
     "output_type": "execute_result"
    }
   ],
   "source": [
    "rmf_y_test=rmf.predict(x_test)\n",
    "rmf_y_test"
   ]
  },
  {
   "cell_type": "code",
   "execution_count": 548,
   "metadata": {},
   "outputs": [
    {
     "data": {
      "text/plain": [
       "array([[30,  8],\n",
       "       [ 5, 25]], dtype=int64)"
      ]
     },
     "execution_count": 548,
     "metadata": {},
     "output_type": "execute_result"
    }
   ],
   "source": [
    "confusion_matrix(y_test, rmf_y_test)"
   ]
  },
  {
   "cell_type": "code",
   "execution_count": 549,
   "metadata": {},
   "outputs": [],
   "source": [
    "rmf_clf_acc = cross_val_score(rmf, x_test, y_test, cv=3, scoring=\"accuracy\",  n_jobs=-1)\n",
    "rmf_proba = cross_val_predict(rmf, x_test, y_test, cv=3, method='predict_proba')\n",
    "rmf_scores = rmf_proba[:, 1]"
   ]
  },
  {
   "cell_type": "code",
   "execution_count": 550,
   "metadata": {},
   "outputs": [
    {
     "data": {
      "text/plain": [
       "array([82.60869565, 73.91304348, 68.18181818])"
      ]
     },
     "execution_count": 550,
     "metadata": {},
     "output_type": "execute_result"
    }
   ],
   "source": [
    "rmf_clf_acc*100"
   ]
  },
  {
   "cell_type": "code",
   "execution_count": 551,
   "metadata": {},
   "outputs": [
    {
     "data": {
      "text/plain": [
       "74.90118577075097"
      ]
     },
     "execution_count": 551,
     "metadata": {},
     "output_type": "execute_result"
    }
   ],
   "source": [
    "rmf_clf_acc.mean()*100"
   ]
  },
  {
   "cell_type": "markdown",
   "metadata": {},
   "source": [
    "**Evaluation :**"
   ]
  },
  {
   "cell_type": "code",
   "execution_count": 552,
   "metadata": {},
   "outputs": [
    {
     "name": "stdout",
     "output_type": "stream",
     "text": [
      "\n",
      "Accuracy score: 80.882353\n",
      "\n",
      "ROC score : 81.140351\n",
      "\n",
      "Precision score : 75.757576\n",
      "\n",
      "Recall score : 83.333333\n",
      "\n",
      "Confusion matrix :\n",
      "[[30  8]\n",
      " [ 5 25]]\n"
     ]
    }
   ],
   "source": [
    "print(\"\\nAccuracy score: %f\\n\" %(accuracy_score(y_test,rmf_y_test) * 100))\n",
    "print(\"ROC score : %f\\n\" %(roc_auc_score(y_test, rmf_y_test) * 100))\n",
    "print(\"Precision score : %f\\n\" %(precision_score(y_test, rmf_y_test) * 100))\n",
    "print(\"Recall score : %f\\n\" %(recall_score(y_test, rmf_y_test) * 100))\n",
    "print(\"Confusion matrix :\")\n",
    "print(confusion_matrix(y_test, rmf_y_test)) "
   ]
  },
  {
   "cell_type": "markdown",
   "metadata": {},
   "source": [
    "# 7. Gradient Boosting Classification"
   ]
  },
  {
   "cell_type": "code",
   "execution_count": 28,
   "metadata": {},
   "outputs": [],
   "source": [
    "gb=pickle.load(open('gbmodel.pkl','rb'))"
   ]
  },
  {
   "cell_type": "code",
   "execution_count": 29,
   "metadata": {},
   "outputs": [
    {
     "data": {
      "text/plain": [
       "89.70588235294117"
      ]
     },
     "execution_count": 29,
     "metadata": {},
     "output_type": "execute_result"
    }
   ],
   "source": [
    "gb.score(x_test,y_test)*100"
   ]
  },
  {
   "cell_type": "code",
   "execution_count": 30,
   "metadata": {},
   "outputs": [
    {
     "data": {
      "text/plain": [
       "array([0, 0, 0, 0, 1, 1, 0, 1, 1, 1, 0, 0, 0, 1, 0, 1, 0, 1, 0, 0, 1, 1,\n",
       "       0, 0, 0, 0, 0, 1, 0, 0, 1, 0, 1, 1, 0, 1, 1, 0, 1, 0, 0, 0, 1, 0,\n",
       "       1, 1, 1, 0, 1, 0, 0, 1, 1, 0, 0, 1, 0, 0, 0, 1, 0, 0, 1, 1, 0, 1,\n",
       "       1, 1], dtype=int64)"
      ]
     },
     "execution_count": 30,
     "metadata": {},
     "output_type": "execute_result"
    }
   ],
   "source": [
    "gb_y_test=gb.predict(x_test)\n",
    "gb_y_test"
   ]
  },
  {
   "cell_type": "code",
   "execution_count": 31,
   "metadata": {},
   "outputs": [
    {
     "data": {
      "text/plain": [
       "array([[34,  4],\n",
       "       [ 3, 27]], dtype=int64)"
      ]
     },
     "execution_count": 31,
     "metadata": {},
     "output_type": "execute_result"
    }
   ],
   "source": [
    "confusion_matrix(y_test, gb_y_test)"
   ]
  },
  {
   "cell_type": "code",
   "execution_count": 32,
   "metadata": {},
   "outputs": [],
   "source": [
    "gb_clf_acc = cross_val_score(gb, x_test, y_test, cv=5, scoring=\"accuracy\",  n_jobs=-1)\n",
    "gb_proba = cross_val_predict(gb, x_test, y_test, cv=5, method='predict_proba')\n",
    "gb_scores = gb_proba[:, 1]"
   ]
  },
  {
   "cell_type": "code",
   "execution_count": 33,
   "metadata": {},
   "outputs": [
    {
     "data": {
      "text/plain": [
       "array([92.85714286, 92.85714286, 57.14285714, 76.92307692, 76.92307692])"
      ]
     },
     "execution_count": 33,
     "metadata": {},
     "output_type": "execute_result"
    }
   ],
   "source": [
    "gb_clf_acc*100"
   ]
  },
  {
   "cell_type": "code",
   "execution_count": 34,
   "metadata": {},
   "outputs": [
    {
     "data": {
      "text/plain": [
       "79.34065934065934"
      ]
     },
     "execution_count": 34,
     "metadata": {},
     "output_type": "execute_result"
    }
   ],
   "source": [
    "gb_clf_acc.mean()*100"
   ]
  },
  {
   "cell_type": "markdown",
   "metadata": {},
   "source": [
    "**Evaluation :**"
   ]
  },
  {
   "cell_type": "code",
   "execution_count": 35,
   "metadata": {},
   "outputs": [
    {
     "name": "stdout",
     "output_type": "stream",
     "text": [
      "\n",
      "Accuracy score: 89.705882\n",
      "\n",
      "ROC score : 89.736842\n",
      "\n",
      "Precision score : 87.096774\n",
      "\n",
      "Recall score : 90.000000\n",
      "\n",
      "Confusion matrix :\n",
      "[[34  4]\n",
      " [ 3 27]]\n"
     ]
    }
   ],
   "source": [
    "print(\"\\nAccuracy score: %f\\n\" %(accuracy_score(y_test,gb_y_test) * 100))\n",
    "print(\"ROC score : %f\\n\" %(roc_auc_score(y_test, gb_y_test) * 100))\n",
    "print(\"Precision score : %f\\n\" %(precision_score(y_test, gb_y_test) * 100))\n",
    "print(\"Recall score : %f\\n\" %(recall_score(y_test, gb_y_test) * 100))\n",
    "print(\"Confusion matrix :\")\n",
    "print(confusion_matrix(y_test, gb_y_test)) "
   ]
  },
  {
   "cell_type": "markdown",
   "metadata": {},
   "source": [
    "# ROC Curves on Test data : "
   ]
  },
  {
   "cell_type": "code",
   "execution_count": 595,
   "metadata": {},
   "outputs": [],
   "source": [
    "def ROC_curve(title, y_test, scores, y_test_pred, label=None):\n",
    "    # calculate the ROC score\n",
    "    fpr, tpr, thresholds = roc_curve(y_test, scores)\n",
    "    print('AUC Score ({}): {:.2f} '.format(title, roc_auc_score(y_test, scores)*100))\n",
    "    print()\n",
    "    print('Test Accuracy : ',accuracy_score(y_test,y_test_pred)*100)\n",
    "    \n",
    "    # plot the ROC curve\n",
    "    plt.figure(figsize=(8,6))\n",
    "    plt.plot(fpr, tpr, linewidth=2, label=label, color='b')\n",
    "    plt.xlabel('False Positive Rate', fontsize=16)\n",
    "    plt.ylabel('True Positive Rate', fontsize=16)\n",
    "    plt.title('ROC Curve: {}'.format(title), fontsize=16)\n",
    "    plt.show()"
   ]
  },
  {
   "cell_type": "code",
   "execution_count": 596,
   "metadata": {
    "scrolled": false
   },
   "outputs": [
    {
     "name": "stdout",
     "output_type": "stream",
     "text": [
      "AUC Score (kNN): 76.71 \n",
      "\n",
      "Test Accuracy :  85.29411764705883\n"
     ]
    },
    {
     "data": {
      "image/png": "[encoded data removed]",
      "text/plain": [
       "<Figure size 576x432 with 1 Axes>"
      ]
     },
     "metadata": {
      "needs_background": "light"
     },
     "output_type": "display_data"
    },
    {
     "name": "stdout",
     "output_type": "stream",
     "text": [
      "AUC Score (Logistic Regression): 78.77 \n",
      "\n",
      "Test Accuracy :  80.88235294117648\n"
     ]
    },
    {
     "data": {
      "image/png": "[encoded data removed]",
      "text/plain": [
       "<Figure size 576x432 with 1 Axes>"
      ]
     },
     "metadata": {
      "needs_background": "light"
     },
     "output_type": "display_data"
    },
    {
     "name": "stdout",
     "output_type": "stream",
     "text": [
      "AUC Score (Naive Bayes): 74.25 \n",
      "\n",
      "Test Accuracy :  82.35294117647058\n"
     ]
    },
    {
     "data": {
      "image/png": "[encoded data removed]",
      "text/plain": [
       "<Figure size 576x432 with 1 Axes>"
      ]
     },
     "metadata": {
      "needs_background": "light"
     },
     "output_type": "display_data"
    },
    {
     "name": "stdout",
     "output_type": "stream",
     "text": [
      "AUC Score (Support Vector Classifiaction): 83.51 \n",
      "\n",
      "Test Accuracy :  73.52941176470588\n"
     ]
    },
    {
     "data": {
      "image/png": "[encoded data removed]",
      "text/plain": [
       "<Figure size 576x432 with 1 Axes>"
      ]
     },
     "metadata": {
      "needs_background": "light"
     },
     "output_type": "display_data"
    },
    {
     "name": "stdout",
     "output_type": "stream",
     "text": [
      "AUC Score (Decision Tree Calssifier): 69.43 \n",
      "\n",
      "Test Accuracy :  82.35294117647058\n"
     ]
    },
    {
     "data": {
      "image/png": "[encoded data removed]",
      "text/plain": [
       "<Figure size 576x432 with 1 Axes>"
      ]
     },
     "metadata": {
      "needs_background": "light"
     },
     "output_type": "display_data"
    },
    {
     "name": "stdout",
     "output_type": "stream",
     "text": [
      "AUC Score (Random Forest Classifier): 82.85 \n",
      "\n",
      "Test Accuracy :  80.88235294117648\n"
     ]
    },
    {
     "data": {
      "image/png": "[encoded data removed]",
      "text/plain": [
       "<Figure size 576x432 with 1 Axes>"
      ]
     },
     "metadata": {
      "needs_background": "light"
     },
     "output_type": "display_data"
    },
    {
     "name": "stdout",
     "output_type": "stream",
     "text": [
      "AUC Score (Gradient Boosting Classifier): 80.39 \n",
      "\n",
      "Test Accuracy :  89.70588235294117\n"
     ]
    },
    {
     "data": {
      "image/png": "[encoded data removed]",
      "text/plain": [
       "<Figure size 576x432 with 1 Axes>"
      ]
     },
     "metadata": {
      "needs_background": "light"
     },
     "output_type": "display_data"
    }
   ],
   "source": [
    "ROC_curve('kNN',y_test,knn_scores,knn_y_test)\n",
    "ROC_curve('Logistic Regression',y_test,lg_scores,lg_y_test)\n",
    "ROC_curve('Naive Bayes',y_test,nb_scores,nb_y_test)\n",
    "ROC_curve('Support Vector Classifiaction',y_test,svm_scores,svc_y_test)\n",
    "ROC_curve('Decision Tree Calssifier',y_test,dtc_scores,dtc_y_test)\n",
    "ROC_curve('Random Forest Classifier',y_test,rmf_scores,rmf_y_test)\n",
    "ROC_curve('Gradient Boosting Classifier',y_test,gb_scores,gb_y_test)"
   ]
  },
  {
   "cell_type": "markdown",
   "metadata": {},
   "source": [
    "# Observations : "
   ]
  },
  {
   "cell_type": "markdown",
   "metadata": {},
   "source": [
    "**Top performance Algorithms on test data :**  \n",
    "1. Gradient Boosting Classifier\n",
    "2. Random Forest Classifier\n",
    "3. Logistic Regression Classifier\n",
    "4. Support Vector Classifier\n",
    "\n",
    "**On this test data, *Gradient Boosting Classifer* gives more accuracy and good ROC score.**"
   ]
  },
  {
   "cell_type": "markdown",
   "metadata": {},
   "source": [
    "# Predicting new values : "
   ]
  },
  {
   "cell_type": "code",
   "execution_count": 38,
   "metadata": {},
   "outputs": [],
   "source": [
    "gb_y_new1 = gb.predict(scaler.transform(np.array([[0,0,6041,197,8,66]])))"
   ]
  },
  {
   "cell_type": "code",
   "execution_count": 39,
   "metadata": {},
   "outputs": [
    {
     "data": {
      "text/plain": [
       "array([0], dtype=int64)"
      ]
     },
     "execution_count": 39,
     "metadata": {},
     "output_type": "execute_result"
    }
   ],
   "source": [
    "gb_y_new1"
   ]
  },
  {
   "cell_type": "markdown",
   "metadata": {},
   "source": [
    "Inactive"
   ]
  },
  {
   "cell_type": "code",
   "execution_count": 40,
   "metadata": {},
   "outputs": [],
   "source": [
    "gb_y_new2 = gb.predict(scaler.transform(np.array([[1,0,6915,223,5,66]])))"
   ]
  },
  {
   "cell_type": "code",
   "execution_count": 41,
   "metadata": {},
   "outputs": [
    {
     "data": {
      "text/plain": [
       "array([1], dtype=int64)"
      ]
     },
     "execution_count": 41,
     "metadata": {},
     "output_type": "execute_result"
    }
   ],
   "source": [
    "gb_y_new2"
   ]
  },
  {
   "cell_type": "markdown",
   "metadata": {},
   "source": [
    "Active"
   ]
  },
  {
   "cell_type": "code",
   "execution_count": null,
   "metadata": {},
   "outputs": [],
   "source": []
  }
 ],
 "metadata": {
  "kernelspec": {
   "display_name": "Python 3",
   "language": "python",
   "name": "python3"
  },
  "language_info": {
   "codemirror_mode": {
    "name": "ipython",
    "version": 3
   },
   "file_extension": ".py",
   "mimetype": "text/x-python",
   "name": "python",
   "nbconvert_exporter": "python",
   "pygments_lexer": "ipython3",
   "version": "3.7.4"
  }
 },
 "nbformat": 4,
 "nbformat_minor": 2
}
